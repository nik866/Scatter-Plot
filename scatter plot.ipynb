{
 "cells": [
  {
   "cell_type": "code",
   "execution_count": 9,
   "metadata": {},
   "outputs": [],
   "source": [
    "import pandas as pd\n",
    "import matplotlib.pyplot as plt\n",
    "%matplotlib inline"
   ]
  },
  {
   "cell_type": "code",
   "execution_count": 7,
   "metadata": {},
   "outputs": [
    {
     "data": {
      "text/html": [
       "<div>\n",
       "<style scoped>\n",
       "    .dataframe tbody tr th:only-of-type {\n",
       "        vertical-align: middle;\n",
       "    }\n",
       "\n",
       "    .dataframe tbody tr th {\n",
       "        vertical-align: top;\n",
       "    }\n",
       "\n",
       "    .dataframe thead th {\n",
       "        text-align: right;\n",
       "    }\n",
       "</style>\n",
       "<table border=\"1\" class=\"dataframe\">\n",
       "  <thead>\n",
       "    <tr style=\"text-align: right;\">\n",
       "      <th></th>\n",
       "      <th>Order_id</th>\n",
       "      <th>Order date</th>\n",
       "      <th>ship date</th>\n",
       "      <th>customer name</th>\n",
       "      <th>ship mode</th>\n",
       "      <th>country</th>\n",
       "      <th>city</th>\n",
       "      <th>category</th>\n",
       "      <th>price</th>\n",
       "      <th>quantity</th>\n",
       "      <th>total price</th>\n",
       "    </tr>\n",
       "  </thead>\n",
       "  <tbody>\n",
       "    <tr>\n",
       "      <th>0</th>\n",
       "      <td>646446446</td>\n",
       "      <td>12-05-20</td>\n",
       "      <td>17-05-20</td>\n",
       "      <td>Aditya</td>\n",
       "      <td>standard class</td>\n",
       "      <td>India</td>\n",
       "      <td>Gorakhpur</td>\n",
       "      <td>Chair</td>\n",
       "      <td>500</td>\n",
       "      <td>4</td>\n",
       "      <td>2000</td>\n",
       "    </tr>\n",
       "    <tr>\n",
       "      <th>1</th>\n",
       "      <td>4646466</td>\n",
       "      <td>13-05-20</td>\n",
       "      <td>18-05-20</td>\n",
       "      <td>Anurag</td>\n",
       "      <td>standard class</td>\n",
       "      <td>India</td>\n",
       "      <td>Varanasi</td>\n",
       "      <td>Perfume</td>\n",
       "      <td>200</td>\n",
       "      <td>2</td>\n",
       "      <td>400</td>\n",
       "    </tr>\n",
       "    <tr>\n",
       "      <th>2</th>\n",
       "      <td>65466</td>\n",
       "      <td>14-05-20</td>\n",
       "      <td>19-05-20</td>\n",
       "      <td>Mohan</td>\n",
       "      <td>second class</td>\n",
       "      <td>India</td>\n",
       "      <td>Lucknow</td>\n",
       "      <td>Mobile</td>\n",
       "      <td>15000</td>\n",
       "      <td>2</td>\n",
       "      <td>30000</td>\n",
       "    </tr>\n",
       "    <tr>\n",
       "      <th>3</th>\n",
       "      <td>646464</td>\n",
       "      <td>15-05-20</td>\n",
       "      <td>20-05-20</td>\n",
       "      <td>Anuj</td>\n",
       "      <td>second class</td>\n",
       "      <td>India</td>\n",
       "      <td>Delhi</td>\n",
       "      <td>Mobile</td>\n",
       "      <td>17000</td>\n",
       "      <td>2</td>\n",
       "      <td>34000</td>\n",
       "    </tr>\n",
       "    <tr>\n",
       "      <th>4</th>\n",
       "      <td>666664</td>\n",
       "      <td>16-05-20</td>\n",
       "      <td>21-05-20</td>\n",
       "      <td>Atul</td>\n",
       "      <td>standard class</td>\n",
       "      <td>India</td>\n",
       "      <td>Delhi</td>\n",
       "      <td>Cable</td>\n",
       "      <td>500</td>\n",
       "      <td>5</td>\n",
       "      <td>2500</td>\n",
       "    </tr>\n",
       "  </tbody>\n",
       "</table>\n",
       "</div>"
      ],
      "text/plain": [
       "    Order_id Order date ship date customer name       ship mode country  \\\n",
       "0  646446446   12-05-20  17-05-20        Aditya  standard class   India   \n",
       "1    4646466   13-05-20  18-05-20        Anurag  standard class   India   \n",
       "2      65466   14-05-20  19-05-20         Mohan    second class   India   \n",
       "3     646464   15-05-20  20-05-20          Anuj    second class   India   \n",
       "4     666664   16-05-20  21-05-20          Atul  standard class   India   \n",
       "\n",
       "        city category  price  quantity  total price  \n",
       "0  Gorakhpur    Chair    500         4         2000  \n",
       "1   Varanasi  Perfume    200         2          400  \n",
       "2    Lucknow   Mobile  15000         2        30000  \n",
       "3      Delhi   Mobile  17000         2        34000  \n",
       "4      Delhi    Cable    500         5         2500  "
      ]
     },
     "execution_count": 7,
     "metadata": {},
     "output_type": "execute_result"
    }
   ],
   "source": [
    "df = pd.read_csv('D:\\\\excel work\\\\Order details csv.csv')\n",
    "df.head()"
   ]
  },
  {
   "cell_type": "code",
   "execution_count": 11,
   "metadata": {},
   "outputs": [
    {
     "data": {
      "image/png": "[encoded data removed]",
      "text/plain": [
       "<Figure size 432x288 with 1 Axes>"
      ]
     },
     "metadata": {
      "needs_background": "light"
     },
     "output_type": "display_data"
    }
   ],
   "source": [
    "plt.scatter(df['price'],df['category'],color = 'b')\n",
    "plt.title('price vs category')\n",
    "plt.xlabel('price')\n",
    "plt.ylabel('category')\n",
    "plt.show()"
   ]
  },
  {
   "cell_type": "code",
   "execution_count": 2,
   "metadata": {},
   "outputs": [],
   "source": [
    "import pandas as pd\n",
    "import matplotlib.pyplot as plt\n",
    "%matplotlib inline"
   ]
  },
  {
   "cell_type": "code",
   "execution_count": 4,
   "metadata": {},
   "outputs": [
    {
     "data": {
      "image/png": "[encoded data removed]",
      "text/plain": [
       "<Figure size 432x288 with 1 Axes>"
      ]
     },
     "metadata": {
      "needs_background": "light"
     },
     "output_type": "display_data"
    }
   ],
   "source": [
    "df = pd.read_csv('D:\\\\excel work\\\\Order details csv.csv')\n",
    "plt.scatter(df['customer name'],df['total price'],color = 'g')\n",
    "plt.title('customer name vs total price')\n",
    "plt.xlabel('customer name')\n",
    "plt.ylabel('total price')\n",
    "plt.show()"
   ]
  },
  {
   "cell_type": "code",
   "execution_count": 5,
   "metadata": {},
   "outputs": [],
   "source": [
    "import numpy as np\n",
    "import pandas as pd\n",
    "from pandas import DataFrame\n",
    "import matplotlib.pyplot as plt\n",
    "from pylab import rcParams\n",
    "import seaborn as sb\n",
    "%matplotlib inline"
   ]
  },
  {
   "cell_type": "code",
   "execution_count": 7,
   "metadata": {},
   "outputs": [
    {
     "data": {
      "text/plain": [
       "(array([2., 2., 4., 2., 0., 1., 2., 3., 1., 3.]),\n",
       " array([0. , 0.8, 1.6, 2.4, 3.2, 4. , 4.8, 5.6, 6.4, 7.2, 8. ]),\n",
       " <a list of 10 Patch objects>)"
      ]
     },
     "execution_count": 7,
     "metadata": {},
     "output_type": "execute_result"
    },
    {
     "data": {
      "image/png": "[encoded data removed]",
      "text/plain": [
       "<Figure size 432x288 with 1 Axes>"
      ]
     },
     "metadata": {
      "needs_background": "light"
     },
     "output_type": "display_data"
    }
   ],
   "source": [
    "df = pd.read_csv('D:\\\\excel work\\\\Order details csv.csv',usecols = ['category'])\n",
    "plt.hist(df['category'])"
   ]
  },
  {
   "cell_type": "code",
   "execution_count": 42,
   "metadata": {},
   "outputs": [
    {
     "data": {
      "image/png": "[encoded data removed]",
      "text/plain": [
       "<Figure size 432x288 with 1 Axes>"
      ]
     },
     "metadata": {
      "needs_background": "light"
     },
     "output_type": "display_data"
    }
   ],
   "source": [
    "df = pd.read_csv('D:\\\\excel work\\\\Order details csv.csv',usecols = ['price'])\n",
    "plt.hist(df['price'],log = True,color = 'g')\n",
    "plt.grid()"
   ]
  },
  {
   "cell_type": "code",
   "execution_count": 10,
   "metadata": {},
   "outputs": [
    {
     "data": {
      "text/plain": [
       "-0.8011526357338304"
      ]
     },
     "execution_count": 10,
     "metadata": {},
     "output_type": "execute_result"
    }
   ],
   "source": [
    "np.sin(90)\n",
    "np.sin(180)"
   ]
  },
  {
   "cell_type": "code",
   "execution_count": 11,
   "metadata": {},
   "outputs": [
    {
     "name": "stdout",
     "output_type": "stream",
     "text": [
      "[0.  0.1 0.2 0.3 0.4 0.5 0.6 0.7 0.8 0.9 1.  1.1 1.2 1.3 1.4 1.5 1.6 1.7\n",
      " 1.8 1.9 2.  2.1 2.2 2.3 2.4 2.5 2.6 2.7 2.8 2.9 3.  3.1 3.2 3.3 3.4 3.5\n",
      " 3.6 3.7 3.8 3.9 4.  4.1 4.2 4.3 4.4 4.5 4.6 4.7 4.8 4.9 5.  5.1 5.2 5.3\n",
      " 5.4 5.5 5.6 5.7 5.8 5.9 6.  6.1 6.2 6.3 6.4 6.5 6.6 6.7 6.8 6.9 7.  7.1\n",
      " 7.2 7.3 7.4 7.5 7.6 7.7 7.8 7.9 8.  8.1 8.2 8.3 8.4 8.5 8.6 8.7 8.8 8.9\n",
      " 9.  9.1 9.2 9.3 9.4]\n"
     ]
    }
   ],
   "source": [
    "x_sin = np.arange(0,3*np.pi,0.1)\n",
    "print(x_sin)"
   ]
  },
  {
   "cell_type": "code",
   "execution_count": 12,
   "metadata": {},
   "outputs": [
    {
     "name": "stdout",
     "output_type": "stream",
     "text": [
      "[ 0.          0.09983342  0.19866933  0.29552021  0.38941834  0.47942554\n",
      "  0.56464247  0.64421769  0.71735609  0.78332691  0.84147098  0.89120736\n",
      "  0.93203909  0.96355819  0.98544973  0.99749499  0.9995736   0.99166481\n",
      "  0.97384763  0.94630009  0.90929743  0.86320937  0.8084964   0.74570521\n",
      "  0.67546318  0.59847214  0.51550137  0.42737988  0.33498815  0.23924933\n",
      "  0.14112001  0.04158066 -0.05837414 -0.15774569 -0.2555411  -0.35078323\n",
      " -0.44252044 -0.52983614 -0.61185789 -0.68776616 -0.7568025  -0.81827711\n",
      " -0.87157577 -0.91616594 -0.95160207 -0.97753012 -0.993691   -0.99992326\n",
      " -0.99616461 -0.98245261 -0.95892427 -0.92581468 -0.88345466 -0.83226744\n",
      " -0.77276449 -0.70554033 -0.63126664 -0.55068554 -0.46460218 -0.37387666\n",
      " -0.2794155  -0.1821625  -0.0830894   0.0168139   0.1165492   0.21511999\n",
      "  0.31154136  0.40484992  0.49411335  0.57843976  0.6569866   0.72896904\n",
      "  0.79366786  0.85043662  0.8987081   0.93799998  0.96791967  0.98816823\n",
      "  0.99854335  0.99894134  0.98935825  0.96988981  0.94073056  0.90217183\n",
      "  0.85459891  0.79848711  0.7343971   0.66296923  0.58491719  0.50102086\n",
      "  0.41211849  0.31909836  0.22288991  0.12445442  0.02477543]\n"
     ]
    }
   ],
   "source": [
    "y_sin = np.sin(x_sin)\n",
    "print(y_sin)"
   ]
  },
  {
   "cell_type": "code",
   "execution_count": 13,
   "metadata": {},
   "outputs": [
    {
     "data": {
      "image/png": "[encoded data removed]",
      "text/plain": [
       "<Figure size 432x288 with 1 Axes>"
      ]
     },
     "metadata": {
      "needs_background": "light"
     },
     "output_type": "display_data"
    }
   ],
   "source": [
    "plt.plot(x_sin,y_sin)\n",
    "plt.show()"
   ]
  },
  {
   "cell_type": "code",
   "execution_count": 14,
   "metadata": {},
   "outputs": [
    {
     "data": {
      "image/png": "[encoded data removed]",
      "text/plain": [
       "<Figure size 432x288 with 1 Axes>"
      ]
     },
     "metadata": {
      "needs_background": "light"
     },
     "output_type": "display_data"
    }
   ],
   "source": [
    "y_cos = np.cos(x_sin)\n",
    "plt.plot(x_sin,y_sin)\n",
    "plt.show()"
   ]
  },
  {
   "cell_type": "code",
   "execution_count": 15,
   "metadata": {},
   "outputs": [],
   "source": [
    "classes = ['Python','Java','SQL','ML','AI','Data Science','Excel']\n",
    "class1_students = [45,35,42,40,47,28,30]"
   ]
  },
  {
   "cell_type": "code",
   "execution_count": 16,
   "metadata": {},
   "outputs": [
    {
     "data": {
      "image/png": "[encoded data removed]",
      "text/plain": [
       "<Figure size 432x288 with 1 Axes>"
      ]
     },
     "metadata": {},
     "output_type": "display_data"
    }
   ],
   "source": [
    "plt.pie(class1_students,labels = classes)\n",
    "colors = [\"b\",\"g\",\"y\",\"r\",\"o\",\"w\",\"b\"]\n",
    "plt.show()"
   ]
  },
  {
   "cell_type": "code",
   "execution_count": 17,
   "metadata": {},
   "outputs": [],
   "source": [
    "classes = ['Python','Java','SQL','ML','AI','Data Science','Excel']\n",
    "class1_students = [45,35,42,40,47,28,30]\n",
    "class2_students = [40,45,42,48,37,39,35]"
   ]
  },
  {
   "cell_type": "code",
   "execution_count": 18,
   "metadata": {},
   "outputs": [
    {
     "data": {
      "text/plain": [
       "<BarContainer object of 7 artists>"
      ]
     },
     "execution_count": 18,
     "metadata": {},
     "output_type": "execute_result"
    },
    {
     "data": {
      "image/png": "[encoded data removed]",
      "text/plain": [
       "<Figure size 432x288 with 1 Axes>"
      ]
     },
     "metadata": {
      "needs_background": "light"
     },
     "output_type": "display_data"
    }
   ],
   "source": [
    "plt.bar(classes,class1_students,width = 0.2,align = \"edge\",color = \"b\",edgecolor = \"r\",linewidth = 5,label = class1_students)"
   ]
  },
  {
   "cell_type": "code",
   "execution_count": 19,
   "metadata": {},
   "outputs": [],
   "source": [
    "x = [4,8,12,18,25,29]\n",
    "y =[7,14,19,28,33,40]"
   ]
  },
  {
   "cell_type": "code",
   "execution_count": 20,
   "metadata": {},
   "outputs": [
    {
     "data": {
      "image/png": "[encoded data removed]",
      "text/plain": [
       "<Figure size 432x288 with 1 Axes>"
      ]
     },
     "metadata": {
      "needs_background": "light"
     },
     "output_type": "display_data"
    }
   ],
   "source": [
    "plt.scatter(x,y,color = 'g',s = 100)\n",
    "plt.grid()"
   ]
  },
  {
   "cell_type": "code",
   "execution_count": 21,
   "metadata": {},
   "outputs": [],
   "source": [
    "import pandas as pd"
   ]
  },
  {
   "cell_type": "code",
   "execution_count": 35,
   "metadata": {},
   "outputs": [
    {
     "data": {
      "text/html": [
       "<div>\n",
       "<style scoped>\n",
       "    .dataframe tbody tr th:only-of-type {\n",
       "        vertical-align: middle;\n",
       "    }\n",
       "\n",
       "    .dataframe tbody tr th {\n",
       "        vertical-align: top;\n",
       "    }\n",
       "\n",
       "    .dataframe thead th {\n",
       "        text-align: right;\n",
       "    }\n",
       "</style>\n",
       "<table border=\"1\" class=\"dataframe\">\n",
       "  <thead>\n",
       "    <tr style=\"text-align: right;\">\n",
       "      <th></th>\n",
       "      <th>Price</th>\n",
       "      <th>Living Area</th>\n",
       "      <th>Bathroms</th>\n",
       "      <th>Lotsize</th>\n",
       "      <th>Age</th>\n",
       "      <th>Bedroom</th>\n",
       "    </tr>\n",
       "  </thead>\n",
       "  <tbody>\n",
       "    <tr>\n",
       "      <th>0</th>\n",
       "      <td>16858</td>\n",
       "      <td>1629</td>\n",
       "      <td>1</td>\n",
       "      <td>0.76</td>\n",
       "      <td>180</td>\n",
       "      <td>2</td>\n",
       "    </tr>\n",
       "    <tr>\n",
       "      <th>1</th>\n",
       "      <td>26049</td>\n",
       "      <td>1344</td>\n",
       "      <td>2</td>\n",
       "      <td>0.92</td>\n",
       "      <td>13</td>\n",
       "      <td>3</td>\n",
       "    </tr>\n",
       "    <tr>\n",
       "      <th>2</th>\n",
       "      <td>26130</td>\n",
       "      <td>822</td>\n",
       "      <td>1</td>\n",
       "      <td>0.56</td>\n",
       "      <td>123</td>\n",
       "      <td>2</td>\n",
       "    </tr>\n",
       "    <tr>\n",
       "      <th>3</th>\n",
       "      <td>31113</td>\n",
       "      <td>1540</td>\n",
       "      <td>1</td>\n",
       "      <td>0.04</td>\n",
       "      <td>115</td>\n",
       "      <td>5</td>\n",
       "    </tr>\n",
       "    <tr>\n",
       "      <th>4</th>\n",
       "      <td>40932</td>\n",
       "      <td>1320</td>\n",
       "      <td>1</td>\n",
       "      <td>0.17</td>\n",
       "      <td>90</td>\n",
       "      <td>2</td>\n",
       "    </tr>\n",
       "  </tbody>\n",
       "</table>\n",
       "</div>"
      ],
      "text/plain": [
       "   Price  Living Area  Bathroms  Lotsize  Age  Bedroom\n",
       "0  16858         1629         1     0.76  180        2\n",
       "1  26049         1344         2     0.92   13        3\n",
       "2  26130          822         1     0.56  123        2\n",
       "3  31113         1540         1     0.04  115        5\n",
       "4  40932         1320         1     0.17   90        2"
      ]
     },
     "execution_count": 35,
     "metadata": {},
     "output_type": "execute_result"
    }
   ],
   "source": [
    "df = pd.read_csv('D:\\\\excel work\\\\Homeprice.csv')\n",
    "df.head()"
   ]
  },
  {
   "cell_type": "code",
   "execution_count": 36,
   "metadata": {},
   "outputs": [
    {
     "data": {
      "text/plain": [
       "<matplotlib.collections.PathCollection at 0x2acd3ca4448>"
      ]
     },
     "execution_count": 36,
     "metadata": {},
     "output_type": "execute_result"
    },
    {
     "data": {
      "image/png": "[encoded data removed]",
      "text/plain": [
       "<Figure size 432x288 with 1 Axes>"
      ]
     },
     "metadata": {
      "needs_background": "light"
     },
     "output_type": "display_data"
    }
   ],
   "source": [
    "plt.scatter(df['Living Area'],df['Price'])"
   ]
  },
  {
   "cell_type": "code",
   "execution_count": null,
   "metadata": {},
   "outputs": [],
   "source": []
  }
 ],
 "metadata": {
  "kernelspec": {
   "display_name": "Python 3",
   "language": "python",
   "name": "python3"
  },
  "language_info": {
   "codemirror_mode": {
    "name": "ipython",
    "version": 3
   },
   "file_extension": ".py",
   "mimetype": "text/x-python",
   "name": "python",
   "nbconvert_exporter": "python",
   "pygments_lexer": "ipython3",
   "version": "3.7.6"
  }
 },
 "nbformat": 4,
 "nbformat_minor": 4
}
